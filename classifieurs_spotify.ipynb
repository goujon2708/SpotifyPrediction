{
 "cells": [
  {
   "cell_type": "markdown",
   "metadata": {},
   "source": [
    "# Classifieurs - Spotify Best Songs from 2000 to 2023\n",
    "-> Prédiction du genre des musiques populaires de 2000 à 2023"
   ]
  },
  {
   "cell_type": "markdown",
   "metadata": {},
   "source": [
    "- SCHERRER Arthur\n",
    "- CHIRON Yoann\n",
    "- BOQUAIN Mathis"
   ]
  },
  {
   "cell_type": "markdown",
   "metadata": {},
   "source": [
    "### Import des différentes librairies"
   ]
  },
  {
   "cell_type": "code",
   "execution_count": 46,
   "metadata": {},
   "outputs": [],
   "source": [
    "import pandas as pd\n",
    "import numpy as np"
   ]
  },
  {
   "cell_type": "markdown",
   "metadata": {},
   "source": [
    "### Chargement des données"
   ]
  },
  {
   "cell_type": "code",
   "execution_count": 47,
   "metadata": {},
   "outputs": [],
   "source": [
    "data = pd.read_csv(\"spotify_songs.csv\", sep=';')"
   ]
  },
  {
   "cell_type": "markdown",
   "metadata": {},
   "source": [
    "### Affichage"
   ]
  },
  {
   "cell_type": "code",
   "execution_count": 48,
   "metadata": {},
   "outputs": [
    {
     "name": "stdout",
     "output_type": "stream",
     "text": [
      "                                    title          artist         top genre  \\\n",
      "0                                 Flowers     Miley Cyrus               pop   \n",
      "1                       Cupid - Twin Ver.     FIFTY FIFTY  k-pop girl group   \n",
      "2                                    BESO         ROSALÍA               pop   \n",
      "3                      Boy's a liar Pt. 2  PinkPantheress       bronx drill   \n",
      "4  Creepin' (with The Weeknd & 21 Savage)    Metro Boomin               rap   \n",
      "\n",
      "   year  bpm  energy  danceability   valence  duration  acousticness  \\\n",
      "0  2023  118      68             71       65       200             6   \n",
      "1  2023  120      59             78       73       174            44   \n",
      "2  2023   95      64             77       53       195            74   \n",
      "3  2023  133      81             70       86       131            25   \n",
      "4  2022   98      62             72       17       222            42   \n",
      "\n",
      "   speechiness   popularity  \n",
      "0             7          98  \n",
      "1             3          97  \n",
      "2            14          96  \n",
      "3             5          96  \n",
      "4             5          96  \n"
     ]
    }
   ],
   "source": [
    "df = pd.DataFrame(data)\n",
    "print(df.head())"
   ]
  },
  {
   "cell_type": "markdown",
   "metadata": {},
   "source": [
    "### Discrétisation des données"
   ]
  },
  {
   "cell_type": "markdown",
   "metadata": {},
   "source": [
    "Certaines features ont été suppriées où ne sont pas utilisées car peu de pertinences face au sujet étudié :\n",
    "- dB\n",
    "- liveness"
   ]
  },
  {
   "cell_type": "markdown",
   "metadata": {},
   "source": [
    "#### Feature à discrétiser"
   ]
  },
  {
   "cell_type": "markdown",
   "metadata": {},
   "source": [
    "Danceability :\n",
    "- 0 < x < 25 : peu dansant\n",
    "- 26 < x < 50 : moyennement dansant\n",
    "- 51 < x < 75 : dansant\n",
    "- 76 < x < 100 : très dansant"
   ]
  },
  {
   "cell_type": "markdown",
   "metadata": {},
   "source": [
    "Energy :\n",
    "- 0 <= x <= 25 : pas énergique\n",
    "- 26 <= x <= 50 : peu énergique\n",
    "- 51 <= x <= 75 : énergique\n",
    "- 76 <= x <= 100 : très énergique"
   ]
  },
  {
   "cell_type": "markdown",
   "metadata": {},
   "source": [
    "BPM :\n",
    "- 0 < x < 40 : \n",
    "- 0 < x < 40 : \n",
    "- 0 < x < 40 : \n",
    "- 0 < x < 40 : "
   ]
  },
  {
   "cell_type": "markdown",
   "metadata": {},
   "source": [
    "Valence :\n",
    "Energy :\n",
    "- 0 <= pas positif énergique\n",
    "- 26 <= x <positifu énergique\n",
    "- 51 <positif : énergique\n",
    "- 76 <= x <positifrès énergique"
   ]
  },
  {
   "cell_type": "markdown",
   "metadata": {},
   "source": [
    "Acoustisness :\n",
    "- 0 <= x <= 25 : pas accoustique\n",
    "- 26 <= x <= 50 : peu accoustique\n",
    "- 51 <= x <= 75 : accoustique\n",
    "- 76 <= x <= 100 : très accoustique"
   ]
  },
  {
   "cell_type": "markdown",
   "metadata": {},
   "source": [
    "Speechiness : "
   ]
  },
  {
   "cell_type": "markdown",
   "metadata": {},
   "source": [
    "### Discrétisation du genre"
   ]
  },
  {
   "cell_type": "code",
   "execution_count": 49,
   "metadata": {},
   "outputs": [
    {
     "name": "stdout",
     "output_type": "stream",
     "text": [
      "pop                     1061\n",
      "rap                      445\n",
      "rock                     139\n",
      "r&b                       99\n",
      "techno                    75\n",
      "metal                     60\n",
      "boy band                  41\n",
      "techo                     40\n",
      "british soul              33\n",
      "indian                    31\n",
      "big room                  27\n",
      "reggaeton                 25\n",
      "contemporary country      20\n",
      "permanent wave            19\n",
      "australian dance          19\n",
      "neo soul                  18\n",
      "eurodance                 15\n",
      "alt z                     14\n",
      "grime                     11\n",
      "g funk                    11\n",
      "alternative dance         10\n",
      "crunk                     10\n",
      "alternative                7\n",
      "girl group                 7\n",
      "brostep                    7\n",
      "emo                        6\n",
      "canadian latin             6\n",
      "escape room                6\n",
      "dancefloor dnb             5\n",
      "adult standards            5\n",
      "Name: top genre, dtype: int64\n"
     ]
    },
    {
     "name": "stderr",
     "output_type": "stream",
     "text": [
      "/var/folders/4f/4jv24jw54zj5c7h9rjmyf6d00000gn/T/ipykernel_8790/1563453291.py:3: FutureWarning: The default value of regex will change from True to False in a future version.\n",
      "  df['top genre'] = df['top genre'].str.replace('.*pop.*', 'pop')\n",
      "/var/folders/4f/4jv24jw54zj5c7h9rjmyf6d00000gn/T/ipykernel_8790/1563453291.py:4: FutureWarning: The default value of regex will change from True to False in a future version.\n",
      "  df['top genre'] = df['top genre'].str.replace('.*hip hop.*', 'rap')\n",
      "/var/folders/4f/4jv24jw54zj5c7h9rjmyf6d00000gn/T/ipykernel_8790/1563453291.py:5: FutureWarning: The default value of regex will change from True to False in a future version.\n",
      "  df['top genre'] = df['top genre'].str.replace('.*hip-hop.*', 'rap')\n",
      "/var/folders/4f/4jv24jw54zj5c7h9rjmyf6d00000gn/T/ipykernel_8790/1563453291.py:6: FutureWarning: The default value of regex will change from True to False in a future version.\n",
      "  df['top genre'] = df['top genre'].str.replace('.*rap.*', 'rap')\n",
      "/var/folders/4f/4jv24jw54zj5c7h9rjmyf6d00000gn/T/ipykernel_8790/1563453291.py:7: FutureWarning: The default value of regex will change from True to False in a future version.\n",
      "  df['top genre'] = df['top genre'].str.replace('.*metal.*', 'metal')\n",
      "/var/folders/4f/4jv24jw54zj5c7h9rjmyf6d00000gn/T/ipykernel_8790/1563453291.py:8: FutureWarning: The default value of regex will change from True to False in a future version.\n",
      "  df['top genre'] = df['top genre'].str.replace('.*r&b.*', 'r&b')\n",
      "/var/folders/4f/4jv24jw54zj5c7h9rjmyf6d00000gn/T/ipykernel_8790/1563453291.py:9: FutureWarning: The default value of regex will change from True to False in a future version.\n",
      "  df['top genre'] = df['top genre'].str.replace('.*edm.*', 'techno')\n",
      "/var/folders/4f/4jv24jw54zj5c7h9rjmyf6d00000gn/T/ipykernel_8790/1563453291.py:10: FutureWarning: The default value of regex will change from True to False in a future version.\n",
      "  df['top genre'] = df['top genre'].str.replace('.*electro.*', 'techno')\n",
      "/var/folders/4f/4jv24jw54zj5c7h9rjmyf6d00000gn/T/ipykernel_8790/1563453291.py:11: FutureWarning: The default value of regex will change from True to False in a future version.\n",
      "  df['top genre'] = df['top genre'].str.replace('.*electro dance music.*', 'techno')\n",
      "/var/folders/4f/4jv24jw54zj5c7h9rjmyf6d00000gn/T/ipykernel_8790/1563453291.py:12: FutureWarning: The default value of regex will change from True to False in a future version.\n",
      "  df['top genre'] = df['top genre'].str.replace('.*indie.*', 'indian')\n",
      "/var/folders/4f/4jv24jw54zj5c7h9rjmyf6d00000gn/T/ipykernel_8790/1563453291.py:13: FutureWarning: The default value of regex will change from True to False in a future version.\n",
      "  df['top genre'] = df['top genre'].str.replace('.*rock.*', 'rock')\n",
      "/var/folders/4f/4jv24jw54zj5c7h9rjmyf6d00000gn/T/ipykernel_8790/1563453291.py:14: FutureWarning: The default value of regex will change from True to False in a future version.\n",
      "  df['top genre'] = df['top genre'].str.replace('.*house.*', 'techo')\n",
      "/var/folders/4f/4jv24jw54zj5c7h9rjmyf6d00000gn/T/ipykernel_8790/1563453291.py:15: FutureWarning: The default value of regex will change from True to False in a future version.\n",
      "  df['top genre'] = df['top genre'].str.replace('.*jazz.*', 'jazz')\n",
      "/var/folders/4f/4jv24jw54zj5c7h9rjmyf6d00000gn/T/ipykernel_8790/1563453291.py:16: FutureWarning: The default value of regex will change from True to False in a future version.\n",
      "  df['top genre'] = df['top genre'].str.replace('.*mellow.*', 'rock')\n"
     ]
    }
   ],
   "source": [
    "df_sorted = df.sort_values(by=\"top genre\")\n",
    "\n",
    "df['top genre'] = df['top genre'].str.replace('.*pop.*', 'pop')\n",
    "df['top genre'] = df['top genre'].str.replace('.*hip hop.*', 'rap')\n",
    "df['top genre'] = df['top genre'].str.replace('.*hip-hop.*', 'rap')\n",
    "df['top genre'] = df['top genre'].str.replace('.*rap.*', 'rap')\n",
    "df['top genre'] = df['top genre'].str.replace('.*metal.*', 'metal')\n",
    "df['top genre'] = df['top genre'].str.replace('.*r&b.*', 'r&b')\n",
    "df['top genre'] = df['top genre'].str.replace('.*edm.*', 'techno')\n",
    "df['top genre'] = df['top genre'].str.replace('.*electro.*', 'techno')\n",
    "df['top genre'] = df['top genre'].str.replace('.*electro dance music.*', 'techno')\n",
    "df['top genre'] = df['top genre'].str.replace('.*indie.*', 'indian')\n",
    "df['top genre'] = df['top genre'].str.replace('.*rock.*', 'rock')\n",
    "df['top genre'] = df['top genre'].str.replace('.*house.*', 'techo')\n",
    "df['top genre'] = df['top genre'].str.replace('.*jazz.*', 'jazz')\n",
    "df['top genre'] = df['top genre'].str.replace('.*mellow.*', 'rock')\n",
    "\n",
    "df_count = df['top genre'].value_counts()\n",
    "\n",
    "print(df_count.head(30))\n"
   ]
  },
  {
   "cell_type": "code",
   "execution_count": null,
   "metadata": {},
   "outputs": [],
   "source": []
  }
 ],
 "metadata": {
  "kernelspec": {
   "display_name": "Python 3",
   "language": "python",
   "name": "python3"
  },
  "language_info": {
   "codemirror_mode": {
    "name": "ipython",
    "version": 3
   },
   "file_extension": ".py",
   "mimetype": "text/x-python",
   "name": "python",
   "nbconvert_exporter": "python",
   "pygments_lexer": "ipython3",
   "version": "3.11.0"
  }
 },
 "nbformat": 4,
 "nbformat_minor": 2
}
