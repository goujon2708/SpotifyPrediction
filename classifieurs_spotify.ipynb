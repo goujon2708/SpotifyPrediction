{
 "cells": [
  {
   "cell_type": "markdown",
   "metadata": {},
   "source": [
    "# Classifieurs - Spotify Best Songs from 2000 to 2023\n",
    "-> Prédiction du genre des musiques populaires de 2000 à 2023"
   ]
  },
  {
   "cell_type": "markdown",
   "metadata": {},
   "source": [
    "- SCHERRER Arthur\n",
    "- CHIRON Yoann\n",
    "- BOQUAIN Mathis"
   ]
  },
  {
   "cell_type": "markdown",
   "metadata": {},
   "source": [
    "### Import des différentes librairies"
   ]
  },
  {
   "cell_type": "code",
   "execution_count": 9,
   "metadata": {},
   "outputs": [],
   "source": [
    "import pandas as pd\n",
    "import numpy as np"
   ]
  },
  {
   "cell_type": "markdown",
   "metadata": {},
   "source": [
    "### Chargement des données"
   ]
  },
  {
   "cell_type": "code",
   "execution_count": 10,
   "metadata": {},
   "outputs": [],
   "source": [
    "data = pd.read_csv(\"Best_Songs_Spotify_2000_2023.csv\", sep=';')"
   ]
  },
  {
   "cell_type": "markdown",
   "metadata": {},
   "source": [
    "### Affichage"
   ]
  },
  {
   "cell_type": "code",
   "execution_count": 11,
   "metadata": {},
   "outputs": [
    {
     "name": "stdout",
     "output_type": "stream",
     "text": [
      "                                    title          artist         top genre  \\\n",
      "0                                 Flowers     Miley Cyrus               pop   \n",
      "1                       Cupid - Twin Ver.     FIFTY FIFTY  k-pop girl group   \n",
      "2                                    BESO         ROSALÍA               pop   \n",
      "3                      Boy's a liar Pt. 2  PinkPantheress       bronx drill   \n",
      "4  Creepin' (with The Weeknd & 21 Savage)    Metro Boomin               rap   \n",
      "\n",
      "   year  bpm  energy  danceability   dB  liveness  valence  duration  \\\n",
      "0  2023  118      68             71  -4         3       65       200   \n",
      "1  2023  120      59             78  -8        35       73       174   \n",
      "2  2023   95      64             77  -7        17       53       195   \n",
      "3  2023  133      81             70  -8        25       86       131   \n",
      "4  2022   98      62             72  -6         8       17       222   \n",
      "\n",
      "   acousticness  speechiness   popularity  \n",
      "0             6             7          98  \n",
      "1            44             3          97  \n",
      "2            74            14          96  \n",
      "3            25             5          96  \n",
      "4            42             5          96  \n"
     ]
    }
   ],
   "source": [
    "df = pd.DataFrame(data)\n",
    "print(df.head())"
   ]
  },
  {
   "cell_type": "markdown",
   "metadata": {},
   "source": [
    "### Discrétisation des données"
   ]
  },
  {
   "cell_type": "markdown",
   "metadata": {},
   "source": [
    "Certaines features ont été suppriées où ne sont pas utilisées car peu de pertinences face au sujet étudié :\n",
    "- dB\n",
    "- liveness"
   ]
  },
  {
   "cell_type": "markdown",
   "metadata": {},
   "source": [
    "#### Feature à discrétiser"
   ]
  },
  {
   "cell_type": "markdown",
   "metadata": {},
   "source": [
    "Danceability :\n",
    "- 0 < x < 25 : peu dansant\n",
    "- 26 < x < 50 : moyennement dansant\n",
    "- 51 < x < 75 : dansant\n",
    "- 76 < x < 100 : très dansant"
   ]
  },
  {
   "cell_type": "markdown",
   "metadata": {},
   "source": [
    "Energy :\n",
    "- 0 <= x <= 25 : pas énergique\n",
    "- 26 <= x <= 50 : peu énergique\n",
    "- 51 <= x <= 75 : énergique\n",
    "- 76 <= x <= 100 : très énergique"
   ]
  },
  {
   "cell_type": "markdown",
   "metadata": {},
   "source": [
    "BPM :\n",
    "- 0 < x < 40 : \n",
    "- 0 < x < 40 : \n",
    "- 0 < x < 40 : \n",
    "- 0 < x < 40 : "
   ]
  },
  {
   "cell_type": "markdown",
   "metadata": {},
   "source": [
    "Valence :\n",
    "Energy :\n",
    "- 0 <= pas positif énergique\n",
    "- 26 <= x <positifu énergique\n",
    "- 51 <positif : énergique\n",
    "- 76 <= x <positifrès énergique"
   ]
  },
  {
   "cell_type": "markdown",
   "metadata": {},
   "source": [
    "Acoustisness :\n",
    "- 0 <= x <= 25 : pas accoustique\n",
    "- 26 <= x <= 50 : peu accoustique\n",
    "- 51 <= x <= 75 : accoustique\n",
    "- 76 <= x <= 100 : très accoustique"
   ]
  },
  {
   "cell_type": "markdown",
   "metadata": {},
   "source": [
    "Speechiness : "
   ]
  },
  {
   "cell_type": "markdown",
   "metadata": {},
   "source": [
    "Top Genre :"
   ]
  },
  {
   "cell_type": "markdown",
   "metadata": {},
   "source": [
    "Duration :"
   ]
  }
 ],
 "metadata": {
  "kernelspec": {
   "display_name": "Python 3",
   "language": "python",
   "name": "python3"
  },
  "language_info": {
   "codemirror_mode": {
    "name": "ipython",
    "version": 3
   },
   "file_extension": ".py",
   "mimetype": "text/x-python",
   "name": "python",
   "nbconvert_exporter": "python",
   "pygments_lexer": "ipython3",
   "version": "3.11.0"
  }
 },
 "nbformat": 4,
 "nbformat_minor": 2
}
